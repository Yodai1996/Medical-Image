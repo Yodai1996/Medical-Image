{
 "cells": [
  {
   "cell_type": "code",
   "execution_count": 9,
   "metadata": {},
   "outputs": [],
   "source": [
    "import matplotlib.pyplot as plt\n",
    "import numpy as np\n",
    "import csv\n",
    "from PIL import Image\n",
    "import scipy.sparse as sp\n",
    "import pandas as pd\n",
    "from numpy.random import *\n",
    "\n",
    "import torch\n",
    "from torch import nn\n",
    "from torch import optim\n",
    "import torch.nn.functional as F"
   ]
  },
  {
   "cell_type": "code",
   "execution_count": 10,
   "metadata": {},
   "outputs": [],
   "source": [
    "from torchvision import models, transforms, datasets\n",
    "import torch\n",
    "torch.cuda.is_available()\n",
    "\n",
    "device = torch.device('cuda' if torch.cuda.is_available() else 'cpu')"
   ]
  },
  {
   "cell_type": "markdown",
   "metadata": {},
   "source": [
    "dataloader"
   ]
  },
  {
   "cell_type": "code",
   "execution_count": 11,
   "metadata": {},
   "outputs": [],
   "source": [
    "transform = transforms.Compose([\n",
    "    #transforms.CenterCrop(724),\n",
    "    transforms.Resize((224, 224)),\n",
    "    # you can add other transformations in this list\n",
    "    transforms.ToTensor()\n",
    "])"
   ]
  },
  {
   "cell_type": "code",
   "execution_count": 12,
   "metadata": {},
   "outputs": [],
   "source": [
    "batch_size = 16\n",
    "num_epoch = 100"
   ]
  },
  {
   "cell_type": "code",
   "execution_count": 13,
   "metadata": {},
   "outputs": [],
   "source": [
    "trainset = datasets.ImageFolder(root=\"./pneumonia_data/train5\", transform = transform)\n",
    "validset = datasets.ImageFolder(root=\"./pneumonia_data/valid\", transform = transform)\n",
    "\n",
    "trainloader = torch.utils.data.DataLoader(trainset, batch_size=batch_size, shuffle=True, pin_memory = True, num_workers=4)\n",
    "validloader = torch.utils.data.DataLoader(validset, batch_size=batch_size, shuffle=False, pin_memory = True, num_workers=4)"
   ]
  },
  {
   "cell_type": "code",
   "execution_count": 14,
   "metadata": {},
   "outputs": [],
   "source": [
    "model = models.resnet50(pretrained=True).to(device)\n",
    "num_features = model.fc.in_features\n",
    "#print(num_features)\n",
    "\n",
    "# fc層を置き換える\n",
    "model.fc = nn.Linear(num_features, 1).to(device)  #binary classifierなので出力は一つでよい"
   ]
  },
  {
   "cell_type": "code",
   "execution_count": 15,
   "metadata": {},
   "outputs": [],
   "source": [
    "#1epoch分の、train と valid用の関数\n",
    "def train(dataloader, is_train=True):\n",
    "    \n",
    "    loss_sum = 0\n",
    "    accuracy = 0\n",
    "    \n",
    "    tp = 0\n",
    "    fp = 0\n",
    "    fn = 0\n",
    "    tn = 0\n",
    "    \n",
    "    #以下、directoiryの配置により、abnorm(=pos)をラベル0、norm(=neg)をラベル１と仮定する\n",
    "    \n",
    "\n",
    "    for batch_id, (inputs, targets) in enumerate(dataloader):\n",
    "\n",
    "        #model.train() or model.eval()\n",
    "        model.train(is_train)\n",
    "\n",
    "        #ここでbreakすれば数は限れる。\n",
    "\n",
    "        inputs  = inputs.to(device)\n",
    "        targets = targets.to(device)\n",
    "        targets = targets.float()\n",
    "\n",
    "        outputs = model(inputs)\n",
    "        outputs = outputs.squeeze()  #reshaping\n",
    "        \n",
    "        #追加\n",
    "        predicted_neg = (outputs > 0).cpu()\n",
    "        predicted_pos = (outputs <= 0).cpu()\n",
    "        real_neg = targets.cpu()\n",
    "        real_pos = 1 - targets.cpu()        \n",
    "        tp += torch.sum(predicted_pos * real_pos)\n",
    "        tn += torch.sum(predicted_neg * real_neg)\n",
    "        fp += torch.sum(predicted_pos * real_neg)        \n",
    "        fn += torch.sum(predicted_neg * real_pos)\n",
    "        \n",
    "        #p()=0.5のケースで区切る。i.e. 出力が>0かどうかでラベルを区別。\n",
    "        # >0 ならラベル１に、<0ならラベル０に対応させ、正解と比較。\n",
    "        #deviceの項を取り除くため、.cpu()してる\n",
    "        accuracy += torch.sum(((outputs > 0).cpu()) == targets.cpu())\n",
    "\n",
    "        loss = criterion(m(outputs), targets)\n",
    "\n",
    "        if is_train: #train\n",
    "            optimizer.zero_grad()\n",
    "            loss.backward()\n",
    "            optimizer.step()\n",
    "\n",
    "        loss_sum += loss    \n",
    "        \n",
    "    loss_ave = loss_sum / (batch_id + 1)\n",
    "\n",
    "    #torchだと割り算が整数の割り算になってしまうので、適当にnpでやった\n",
    "    accuracy = accuracy.numpy()\n",
    "    accuracy = accuracy / ((batch_id + 1) * batch_size)\n",
    "    \n",
    "    #追加\n",
    "    tp = tp.numpy()\n",
    "    tn = tn.numpy()\n",
    "    fp = fp.numpy()\n",
    "    fn = fn.numpy()    \n",
    "    precision = tp / (tp + fp)\n",
    "    recall   = tp / (tp + fn)\n",
    "    dice     = 2*tp / (2*tp + fp + fn)\n",
    "    #accuracy = (tp + tn) / (tp+tn+fp+fn) #just verification. remove soon. \n",
    "    \n",
    "    return loss_ave, accuracy, precision, recall, dice"
   ]
  },
  {
   "cell_type": "code",
   "execution_count": 16,
   "metadata": {},
   "outputs": [
    {
     "name": "stdout",
     "output_type": "stream",
     "text": [
      "epoch:1/100 loss:-13.2020, accuracy:0.492, val_loss:13.5800, val_acc:0.491\n",
      "            precision:nan, recall:0.000, dice:0.000\n"
     ]
    },
    {
     "name": "stderr",
     "output_type": "stream",
     "text": [
      "/home/yodai/anaconda3/lib/python3.7/site-packages/ipykernel_launcher.py:64: RuntimeWarning: invalid value encountered in true_divide\n"
     ]
    },
    {
     "name": "stdout",
     "output_type": "stream",
     "text": [
      "epoch:2/100 loss:-13.7930, accuracy:0.498, val_loss:13.5800, val_acc:0.491\n",
      "            precision:nan, recall:0.000, dice:0.000\n",
      "epoch:3/100 loss:-13.7705, accuracy:0.498, val_loss:13.5800, val_acc:0.491\n",
      "            precision:nan, recall:0.000, dice:0.000\n",
      "epoch:4/100 loss:-13.7930, accuracy:0.498, val_loss:13.5800, val_acc:0.491\n",
      "            precision:nan, recall:0.000, dice:0.000\n",
      "epoch:5/100 loss:-13.8380, accuracy:0.498, val_loss:13.5800, val_acc:0.491\n",
      "            precision:nan, recall:0.000, dice:0.000\n"
     ]
    },
    {
     "name": "stderr",
     "output_type": "stream",
     "text": [
      "ERROR:root:Internal Python error in the inspect module.\n",
      "Below is the traceback from this internal error.\n",
      "\n"
     ]
    },
    {
     "name": "stdout",
     "output_type": "stream",
     "text": [
      "Traceback (most recent call last):\n",
      "  File \"/home/yodai/anaconda3/lib/python3.7/site-packages/IPython/core/interactiveshell.py\", line 3325, in run_code\n",
      "    exec(code_obj, self.user_global_ns, self.user_ns)\n",
      "  File \"<ipython-input-16-921dcf0f4073>\", line 16, in <module>\n",
      "    loss_ave, accuracy, _, _, _ = train(trainloader, is_train=True)\n",
      "  File \"<ipython-input-15-43ca1f312973>\", line 49, in train\n",
      "    optimizer.step()\n",
      "  File \"/home/yodai/anaconda3/lib/python3.7/site-packages/torch/optim/adam.py\", line 107, in step\n",
      "    p.data.addcdiv_(-step_size, exp_avg, denom)\n",
      "KeyboardInterrupt\n",
      "\n",
      "During handling of the above exception, another exception occurred:\n",
      "\n",
      "Traceback (most recent call last):\n",
      "  File \"/home/yodai/anaconda3/lib/python3.7/site-packages/IPython/core/interactiveshell.py\", line 2039, in showtraceback\n",
      "    stb = value._render_traceback_()\n",
      "AttributeError: 'KeyboardInterrupt' object has no attribute '_render_traceback_'\n",
      "\n",
      "During handling of the above exception, another exception occurred:\n",
      "\n",
      "Traceback (most recent call last):\n",
      "  File \"/home/yodai/anaconda3/lib/python3.7/site-packages/IPython/core/ultratb.py\", line 1101, in get_records\n",
      "    return _fixed_getinnerframes(etb, number_of_lines_of_context, tb_offset)\n",
      "  File \"/home/yodai/anaconda3/lib/python3.7/site-packages/IPython/core/ultratb.py\", line 319, in wrapped\n",
      "    return f(*args, **kwargs)\n",
      "  File \"/home/yodai/anaconda3/lib/python3.7/site-packages/IPython/core/ultratb.py\", line 353, in _fixed_getinnerframes\n",
      "    records = fix_frame_records_filenames(inspect.getinnerframes(etb, context))\n",
      "  File \"/home/yodai/anaconda3/lib/python3.7/inspect.py\", line 1502, in getinnerframes\n",
      "    frameinfo = (tb.tb_frame,) + getframeinfo(tb, context)\n",
      "  File \"/home/yodai/anaconda3/lib/python3.7/inspect.py\", line 1460, in getframeinfo\n",
      "    filename = getsourcefile(frame) or getfile(frame)\n",
      "  File \"/home/yodai/anaconda3/lib/python3.7/inspect.py\", line 696, in getsourcefile\n",
      "    if getattr(getmodule(object, filename), '__loader__', None) is not None:\n",
      "  File \"/home/yodai/anaconda3/lib/python3.7/inspect.py\", line 742, in getmodule\n",
      "    os.path.realpath(f)] = module.__name__\n",
      "KeyboardInterrupt\n"
     ]
    },
    {
     "ename": "KeyboardInterrupt",
     "evalue": "",
     "output_type": "error",
     "traceback": [
      "\u001b[0;31m---------------------------------------------------------------------------\u001b[0m"
     ]
    }
   ],
   "source": [
    "#deviceにのっけると速い\n",
    "#optimizer = optim.SGD(model.parameters(), lr=0.001, momentum=0.9)\n",
    "optimizer = optim.Adam(model.parameters(), lr=0.002)\n",
    "\n",
    "criterion = nn.BCELoss()\n",
    "m = nn.Sigmoid()\n",
    "\n",
    "losses = []\n",
    "accuracies = []\n",
    "\n",
    "val_losses = []\n",
    "val_accuracies = []\n",
    "\n",
    "for epoch in range(num_epoch):\n",
    "    \n",
    "    loss_ave, accuracy, _, _, _ = train(trainloader, is_train=True)        \n",
    "    losses.append(loss_ave)\n",
    "    accuracies.append(accuracy)\n",
    "    \n",
    "    with torch.no_grad():\n",
    "        val_loss_ave, val_accuracy, precision, recall, dice = train(validloader, is_train=False)        \n",
    "        val_losses.append(val_loss_ave)\n",
    "        val_accuracies.append(val_accuracy)    \n",
    "    \n",
    "    print(\"epoch:{}/{} loss:{:.4f}, accuracy:{:.3f}, val_loss:{:.4f}, val_acc:{:.3f}\".format(epoch+1, num_epoch, loss_ave, accuracy, val_loss_ave, val_accuracy))\n",
    "    print(\"            precision:{:.3f}, recall:{:.3f}, dice:{:.3f}\".format(precision, recall, dice))"
   ]
  },
  {
   "cell_type": "code",
   "execution_count": null,
   "metadata": {},
   "outputs": [],
   "source": []
  },
  {
   "cell_type": "code",
   "execution_count": 18,
   "metadata": {},
   "outputs": [
    {
     "data": {
      "image/png": "[encoded data removed]",
      "text/plain": [
       "<Figure size 1080x576 with 1 Axes>"
      ]
     },
     "metadata": {
      "needs_background": "light"
     },
     "output_type": "display_data"
    }
   ],
   "source": [
    "#save_file = \n",
    "\n",
    "plt.figure(figsize=(15,8))\n",
    "plt.plot(losses, label=\"train_loss\")\n",
    "plt.plot(val_losses, label=\"valid_loss\")\n",
    "plt.legend()\n",
    "plt.xlabel(\"epoch\")\n",
    "plt.ylabel(\"loss\")\n",
    "plt.grid()\n",
    "#plt.savefig('result/Loss_of_rsna_data2_ResNet50_Size224.png')"
   ]
  },
  {
   "cell_type": "code",
   "execution_count": 19,
   "metadata": {},
   "outputs": [
    {
     "data": {
      "image/png": "[encoded data removed]",
      "text/plain": [
       "<Figure size 1080x576 with 1 Axes>"
      ]
     },
     "metadata": {
      "needs_background": "light"
     },
     "output_type": "display_data"
    }
   ],
   "source": [
    "plt.figure(figsize=(15,8))\n",
    "plt.plot(accuracies, label=\"train_accuracy\")\n",
    "plt.plot(val_accuracies, label=\"valid_accuracy\")\n",
    "plt.legend()\n",
    "plt.xlabel(\"epoch\")\n",
    "plt.ylabel(\"accuracy\")\n",
    "plt.grid()\n",
    "#plt.savefig('result/Accuracy_of_rsna_data2_ResNet50_Size224.png')"
   ]
  },
  {
   "cell_type": "code",
   "execution_count": null,
   "metadata": {},
   "outputs": [],
   "source": []
  },
  {
   "cell_type": "code",
   "execution_count": null,
   "metadata": {},
   "outputs": [],
   "source": []
  },
  {
   "cell_type": "code",
   "execution_count": null,
   "metadata": {},
   "outputs": [],
   "source": []
  },
  {
   "cell_type": "code",
   "execution_count": null,
   "metadata": {},
   "outputs": [],
   "source": []
  },
  {
   "cell_type": "code",
   "execution_count": null,
   "metadata": {},
   "outputs": [],
   "source": []
  },
  {
   "cell_type": "code",
   "execution_count": null,
   "metadata": {},
   "outputs": [],
   "source": []
  },
  {
   "cell_type": "code",
   "execution_count": null,
   "metadata": {},
   "outputs": [],
   "source": []
  },
  {
   "cell_type": "code",
   "execution_count": 7,
   "metadata": {},
   "outputs": [],
   "source": [
    "#1epoch分の、train と valid用の関数\n",
    "def train(dataloader, is_train=True):\n",
    "    \n",
    "    loss_sum = 0\n",
    "    accuracy = 0\n",
    "\n",
    "    for batch_id, (inputs, targets) in enumerate(dataloader):\n",
    "\n",
    "        #model.train() or model.eval()\n",
    "        model.train(is_train)\n",
    "\n",
    "        #ここでbreakすれば数は限れる。\n",
    "\n",
    "        inputs  = inputs.to(device)\n",
    "        targets = targets.to(device)\n",
    "        targets = targets.float()\n",
    "\n",
    "        outputs = model(inputs)\n",
    "        outputs = outputs.squeeze()  #reshaping\n",
    "\n",
    "        #p()=0.5のケースで区切る。i.e. 出力が>0かどうかでラベルを区別。\n",
    "        # >0 ならラベル１に、<0ならラベル０に対応させ、正解と比較。\n",
    "        #deviceの項を取り除くため、.cpu()してる\n",
    "        accuracy += torch.sum(((outputs > 0).cpu()) == targets.cpu())\n",
    "\n",
    "        loss = criterion(m(outputs), targets)\n",
    "\n",
    "        if is_train: #train\n",
    "            optimizer.zero_grad()\n",
    "            loss.backward()\n",
    "            optimizer.step()\n",
    "\n",
    "        loss_sum += loss    \n",
    "        \n",
    "    loss_ave = loss_sum / (batch_id + 1)\n",
    "\n",
    "    #torchだと割り算が整数の割り算になってしまうので、適当にnpでやった\n",
    "    accuracy = accuracy.numpy()\n",
    "    accuracy = accuracy / ((batch_id + 1) * batch_size)\n",
    "    \n",
    "    return loss_ave, accuracy"
   ]
  }
 ],
 "metadata": {
  "kernelspec": {
   "display_name": "Python 3",
   "language": "python",
   "name": "python3"
  },
  "language_info": {
   "codemirror_mode": {
    "name": "ipython",
    "version": 3
   },
   "file_extension": ".py",
   "mimetype": "text/x-python",
   "name": "python",
   "nbconvert_exporter": "python",
   "pygments_lexer": "ipython3",
   "version": "3.7.3"
  }
 },
 "nbformat": 4,
 "nbformat_minor": 2
}
